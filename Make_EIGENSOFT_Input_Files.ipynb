{
 "cells": [
  {
   "cell_type": "markdown",
   "metadata": {},
   "source": [
    "\n",
    "#Making Eigensoft Input Files\n",
    "To convert the PLINK output from Stacks, which doesn't input directly to EIG6.0.1\n",
    "\n",
    "1. Define paths to input and output files\n",
    "2. PLINK.map file alteration \n",
    "3. PLINK.ped file alteration \n",
    "    Note: for this, you need to have a tab separated file with 2 columns (sample names, population ID) \n",
    "\n",
    "(4. Make an Eigensoft parameters file to use) -- in future\n",
    "\n",
    "\n",
    "(Ultimate gaol = Stacks PLINK Output to EIGENSOFT PCA figures)"
   ]
  },
  {
   "cell_type": "code",
   "execution_count": 8,
   "metadata": {
    "collapsed": true
   },
   "outputs": [],
   "source": [
    "#Import packages \n",
    "\n",
    "#regular expressions \n",
    "import re \n",
    "\n",
    "#pandas for working with dataframes\n",
    "import pandas as pd \n",
    "\n",
    "#numpy\n",
    "import numpy as np\n",
    "\n",
    "#csv reader\n",
    "import csv"
   ]
  },
  {
   "cell_type": "markdown",
   "metadata": {},
   "source": [
    "##1. Define paths to input and output files "
   ]
  },
  {
   "cell_type": "code",
   "execution_count": 9,
   "metadata": {
    "collapsed": false
   },
   "outputs": [],
   "source": [
    "#NOTE: There is one spot where you'll have to put in a path and it's in the Bash cell where it uses a file that has populations for each sample\n",
    "\n",
    "Plink_Map_File_Path = \"/Users/eleanorbors/Desktop/Analysis/Lionfish_Stacks_Files/all_lionfish_stacks_1.35_42bp/n3M3/populations_no_miles_p14_r80/batch_100.plink.map\"\n",
    "\n",
    "Plink_Ped_File_Path = \"/Users/eleanorbors/Desktop/Analysis/Lionfish_Stacks_Files/all_lionfish_stacks_1.35_42bp/n3M3/populations_no_miles_p14_r80/batch_100.plink.ped\"\n",
    "\n",
    "Finished_Map_Output_Path = \"/Users/eleanorbors/Desktop/Analysis/Lionfish_Stacks_Files/all_lionfish_stacks_1.35_42bp/n3M3/populations_no_miles_p14_r80/EIG_batch_100_p14_r80_nomiles.map\"\n",
    "\n",
    "Finished_Ped_Output_Path = \"/Users/eleanorbors/Desktop/Analysis/Lionfish_Stacks_Files/all_lionfish_stacks_1.35_42bp/n3M3/populations_no_miles_p14_r80/EIG_batch_100_p14_r80_nomiles.ped\""
   ]
  },
  {
   "cell_type": "markdown",
   "metadata": {},
   "source": [
    "##2. PLINK.map file alteration \n",
    "1. Import to python, excluding first line. \n",
    "2. Change the chromosome number all to \"1\" to make EIGENSOFT happy. "
   ]
  },
  {
   "cell_type": "code",
   "execution_count": 10,
   "metadata": {
    "collapsed": false
   },
   "outputs": [],
   "source": [
    "#Define f as the table from the PLINK.map file\n",
    "\n",
    "f = pd.read_table(Plink_Map_File_Path, skiprows=1, header=None)\n",
    "\n",
    "#Define your MapFile as a dataframe made from the PLINK.map table and name the columns \n",
    "MapFile = pd.DataFrame(data = f)\n",
    "MapFile.columns  = ['chr', 'variant_ID', 'position','bp_coorinate']\n",
    "\n",
    "#To check work, un-hash \"MapFile\" below:\n",
    "#MapFile\n",
    "\n"
   ]
  },
  {
   "cell_type": "code",
   "execution_count": 11,
   "metadata": {
    "collapsed": false
   },
   "outputs": [],
   "source": [
    "#Use \"pd.DataFrame.replace()\" to replace \"un\" with \"1\"\n",
    "#Name the new dataframe \"MapFile_finished\" do distinguish it from an un-manipulated dataframe\n",
    "\n",
    "MapFile_finished = MapFile.replace(to_replace = 'un', value=1)\n",
    "\n",
    "#To check work, un-hash \"MapFile_finished\" below:\n",
    "#MapFile_finished"
   ]
  },
  {
   "cell_type": "code",
   "execution_count": 12,
   "metadata": {
    "collapsed": false
   },
   "outputs": [],
   "source": [
    "#Export altered file with proper chromosome code to location defined above as Finished_Map_Output_Path\n",
    "\n",
    "MapFile_finished.to_csv(Finished_Map_Output_Path, sep ='\\t', index=False, header=False)\n",
    "\n"
   ]
  },
  {
   "cell_type": "markdown",
   "metadata": {},
   "source": [
    "## 3. PLINK.ped file alteration "
   ]
  },
  {
   "cell_type": "code",
   "execution_count": 13,
   "metadata": {
    "collapsed": false
   },
   "outputs": [],
   "source": [
    "#Read in the PLINK.ped file as a table, with no header \n",
    "\n",
    "f = pd.read_table(Plink_Ped_File_Path, skiprows=1, header=None, dtype=object)\n",
    "\n",
    "#Define a dataframe \"PedFile\"\n",
    "PedFile = pd.DataFrame(data = f)\n",
    "\n",
    "#Check that your file starts with the right indiviudal and that there are the right number of individuals (0 indexed!)\n",
    "#PedFile"
   ]
  },
  {
   "cell_type": "code",
   "execution_count": 14,
   "metadata": {
    "collapsed": false
   },
   "outputs": [],
   "source": [
    "#make first column read \"pop_#\" instead of just a number \n",
    "#Note: make sure the data types are correct when using the \".replace\" command. Here, PedFile[0] is an object. \n",
    "\n",
    "#PedFile[0] = PedFile[0].replace(to_replace = ['1', '2', ], value = ['pop_1', 'pop_2']) \n",
    "\n",
    "#Make the chromosome column read \"1\" straight down.  Length is length of dataframe \n",
    "PedFile[4] = [1] * len(PedFile.index)\n",
    "\n",
    "#Un-has command below to check work:\n",
    "#PedFile"
   ]
  },
  {
   "cell_type": "markdown",
   "metadata": {},
   "source": [
    "##Tricky part = Need to make a list that is the population names as they match up with sample names. \n"
   ]
  },
  {
   "cell_type": "code",
   "execution_count": 15,
   "metadata": {
    "collapsed": true
   },
   "outputs": [],
   "source": [
    "#Make a new file that will be the sample list output (for later steps)\n",
    "csvfile = \"./sample_list_output.csv\"\n",
    "\n",
    "#write your list of individuals to the csv file you made above to match order later\n",
    "with open(csvfile, \"w\") as output:\n",
    "    writer = csv.writer(output, lineterminator='\\n')\n",
    "    for val in PedFile[1]:\n",
    "        writer.writerow([val])"
   ]
  },
  {
   "cell_type": "code",
   "execution_count": 16,
   "metadata": {
    "collapsed": false
   },
   "outputs": [],
   "source": [
    "%%bash\n",
    "\n",
    "#Use Bash to implement awk to search file for the population names associated with EKB #s. \n",
    "\n",
    "#Use Awk to get the list of populations to align with the correct order for the samples by searching in order of samlpe list\n",
    "#Command taken from a stacks overflow answer\n",
    "\n",
    "awk -F \\t 'FNR==NR{a[$1]=$0;next}{print a[$1]}' /Users/eleanorbors/Desktop/Analysis/All_RAD_Pop_Data.txt sample_list_output.csv > sample_pop_map_correct_order.csv\n",
    "\n",
    "#Unhash to see if you did it right \n",
    "#cat sample_pop_map_correct_order.csv"
   ]
  },
  {
   "cell_type": "code",
   "execution_count": 17,
   "metadata": {
    "collapsed": false
   },
   "outputs": [],
   "source": [
    "#Use CSV file to make a column in the dataframe PedFile\n",
    "\n",
    "colnames = ['sample','pop']\n",
    "populations = pd.read_csv(\"sample_pop_map_correct_order.csv\", sep = '\\t', names=colnames)\n",
    "\n",
    "\n",
    "PedFile[5] = list(populations['pop'])\n",
    "\n",
    "#print pd.unique(PedFile[5])\n",
    "\n",
    "#Check your beautiful work \n",
    "#PedFile\n"
   ]
  },
  {
   "cell_type": "markdown",
   "metadata": {},
   "source": [
    "##Finally, change all AGCT to 1234 and then save the new file"
   ]
  },
  {
   "cell_type": "code",
   "execution_count": 18,
   "metadata": {
    "collapsed": false
   },
   "outputs": [],
   "source": [
    "#Use \"to_replace\" and \"value\" to define lists of items to replace in the file \n",
    "\n",
    "PedFile_finished = PedFile.replace(to_replace = ['A', 'G', 'C', 'T'] , value=[1, 2, 3, 4])\n",
    "\n",
    "#PedFile_finished"
   ]
  },
  {
   "cell_type": "code",
   "execution_count": 19,
   "metadata": {
    "collapsed": false
   },
   "outputs": [],
   "source": [
    "#Use predefined path to the output file to make your input to EIGENSOFT\n",
    "\n",
    "PedFile_finished.to_csv(Finished_Ped_Output_Path, sep ='\\t', index=False, header=False)"
   ]
  },
  {
   "cell_type": "markdown",
   "metadata": {
    "collapsed": true
   },
   "source": [
    "# 4. Make par file for Eigensoft  -- TO BE DONE AT A LATER TIME\n",
    "\n"
   ]
  },
  {
   "cell_type": "code",
   "execution_count": null,
   "metadata": {
    "collapsed": true
   },
   "outputs": [],
   "source": []
  }
 ],
 "metadata": {
  "kernelspec": {
   "display_name": "Python 2",
   "language": "python",
   "name": "python2"
  },
  "language_info": {
   "codemirror_mode": {
    "name": "ipython",
    "version": 2
   },
   "file_extension": ".py",
   "mimetype": "text/x-python",
   "name": "python",
   "nbconvert_exporter": "python",
   "pygments_lexer": "ipython2",
   "version": "2.7.10"
  }
 },
 "nbformat": 4,
 "nbformat_minor": 0
}
